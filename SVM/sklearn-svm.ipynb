{
 "cells": [
  {
   "cell_type": "code",
   "execution_count": 1,
   "id": "f5ad97ad",
   "metadata": {},
   "outputs": [],
   "source": [
    "import pandas as pd\n",
    "import matplotlib.pyplot as plt\n",
    "import seaborn as sns\n",
    "import numpy as np\n",
    "from sklearn.preprocessing import StandardScaler\n",
    "from sklearn.model_selection import train_test_split as tts\n",
    "import math\n",
    "from sklearn.metrics import f1_score\n",
    "from sklearn.metrics import accuracy_score\n",
    "from statistics import mean \n",
    "\n",
    "from sklearn.svm import SVC # \"Support vector classifier\"  \n",
    "from sklearn.feature_selection import SelectKBest, chi2"
   ]
  },
  {
   "cell_type": "markdown",
   "id": "d55d5fb1",
   "metadata": {},
   "source": [
    "## Reading the data"
   ]
  },
  {
   "cell_type": "code",
   "execution_count": 2,
   "id": "a180a343",
   "metadata": {},
   "outputs": [
    {
     "data": {
      "text/html": [
       "<div>\n",
       "<style scoped>\n",
       "    .dataframe tbody tr th:only-of-type {\n",
       "        vertical-align: middle;\n",
       "    }\n",
       "\n",
       "    .dataframe tbody tr th {\n",
       "        vertical-align: top;\n",
       "    }\n",
       "\n",
       "    .dataframe thead th {\n",
       "        text-align: right;\n",
       "    }\n",
       "</style>\n",
       "<table border=\"1\" class=\"dataframe\">\n",
       "  <thead>\n",
       "    <tr style=\"text-align: right;\">\n",
       "      <th></th>\n",
       "      <th>1</th>\n",
       "      <th>6</th>\n",
       "      <th>4</th>\n",
       "      <th>12</th>\n",
       "      <th>5</th>\n",
       "      <th>5.1</th>\n",
       "      <th>3</th>\n",
       "      <th>4.1</th>\n",
       "      <th>1.1</th>\n",
       "      <th>67</th>\n",
       "      <th>...</th>\n",
       "      <th>0</th>\n",
       "      <th>0.1</th>\n",
       "      <th>1.4</th>\n",
       "      <th>0.2</th>\n",
       "      <th>0.3</th>\n",
       "      <th>1.5</th>\n",
       "      <th>0.4</th>\n",
       "      <th>0.5</th>\n",
       "      <th>1.6</th>\n",
       "      <th>1.7</th>\n",
       "    </tr>\n",
       "  </thead>\n",
       "  <tbody>\n",
       "    <tr>\n",
       "      <th>0</th>\n",
       "      <td>2</td>\n",
       "      <td>48</td>\n",
       "      <td>2</td>\n",
       "      <td>60</td>\n",
       "      <td>1</td>\n",
       "      <td>3</td>\n",
       "      <td>2</td>\n",
       "      <td>2</td>\n",
       "      <td>1</td>\n",
       "      <td>22</td>\n",
       "      <td>...</td>\n",
       "      <td>0</td>\n",
       "      <td>0</td>\n",
       "      <td>1</td>\n",
       "      <td>0</td>\n",
       "      <td>0</td>\n",
       "      <td>1</td>\n",
       "      <td>0</td>\n",
       "      <td>0</td>\n",
       "      <td>1</td>\n",
       "      <td>2</td>\n",
       "    </tr>\n",
       "    <tr>\n",
       "      <th>1</th>\n",
       "      <td>4</td>\n",
       "      <td>12</td>\n",
       "      <td>4</td>\n",
       "      <td>21</td>\n",
       "      <td>1</td>\n",
       "      <td>4</td>\n",
       "      <td>3</td>\n",
       "      <td>3</td>\n",
       "      <td>1</td>\n",
       "      <td>49</td>\n",
       "      <td>...</td>\n",
       "      <td>0</td>\n",
       "      <td>0</td>\n",
       "      <td>1</td>\n",
       "      <td>0</td>\n",
       "      <td>0</td>\n",
       "      <td>1</td>\n",
       "      <td>0</td>\n",
       "      <td>1</td>\n",
       "      <td>0</td>\n",
       "      <td>1</td>\n",
       "    </tr>\n",
       "    <tr>\n",
       "      <th>2</th>\n",
       "      <td>1</td>\n",
       "      <td>42</td>\n",
       "      <td>2</td>\n",
       "      <td>79</td>\n",
       "      <td>1</td>\n",
       "      <td>4</td>\n",
       "      <td>3</td>\n",
       "      <td>4</td>\n",
       "      <td>2</td>\n",
       "      <td>45</td>\n",
       "      <td>...</td>\n",
       "      <td>0</td>\n",
       "      <td>0</td>\n",
       "      <td>0</td>\n",
       "      <td>0</td>\n",
       "      <td>0</td>\n",
       "      <td>0</td>\n",
       "      <td>0</td>\n",
       "      <td>0</td>\n",
       "      <td>1</td>\n",
       "      <td>1</td>\n",
       "    </tr>\n",
       "    <tr>\n",
       "      <th>3</th>\n",
       "      <td>1</td>\n",
       "      <td>24</td>\n",
       "      <td>3</td>\n",
       "      <td>49</td>\n",
       "      <td>1</td>\n",
       "      <td>3</td>\n",
       "      <td>3</td>\n",
       "      <td>4</td>\n",
       "      <td>4</td>\n",
       "      <td>53</td>\n",
       "      <td>...</td>\n",
       "      <td>1</td>\n",
       "      <td>0</td>\n",
       "      <td>1</td>\n",
       "      <td>0</td>\n",
       "      <td>0</td>\n",
       "      <td>0</td>\n",
       "      <td>0</td>\n",
       "      <td>0</td>\n",
       "      <td>1</td>\n",
       "      <td>2</td>\n",
       "    </tr>\n",
       "    <tr>\n",
       "      <th>4</th>\n",
       "      <td>4</td>\n",
       "      <td>36</td>\n",
       "      <td>2</td>\n",
       "      <td>91</td>\n",
       "      <td>5</td>\n",
       "      <td>3</td>\n",
       "      <td>3</td>\n",
       "      <td>4</td>\n",
       "      <td>4</td>\n",
       "      <td>35</td>\n",
       "      <td>...</td>\n",
       "      <td>0</td>\n",
       "      <td>0</td>\n",
       "      <td>1</td>\n",
       "      <td>0</td>\n",
       "      <td>0</td>\n",
       "      <td>0</td>\n",
       "      <td>0</td>\n",
       "      <td>1</td>\n",
       "      <td>0</td>\n",
       "      <td>1</td>\n",
       "    </tr>\n",
       "    <tr>\n",
       "      <th>5</th>\n",
       "      <td>4</td>\n",
       "      <td>24</td>\n",
       "      <td>2</td>\n",
       "      <td>28</td>\n",
       "      <td>3</td>\n",
       "      <td>5</td>\n",
       "      <td>3</td>\n",
       "      <td>4</td>\n",
       "      <td>2</td>\n",
       "      <td>53</td>\n",
       "      <td>...</td>\n",
       "      <td>0</td>\n",
       "      <td>0</td>\n",
       "      <td>1</td>\n",
       "      <td>0</td>\n",
       "      <td>0</td>\n",
       "      <td>1</td>\n",
       "      <td>0</td>\n",
       "      <td>0</td>\n",
       "      <td>1</td>\n",
       "      <td>1</td>\n",
       "    </tr>\n",
       "    <tr>\n",
       "      <th>6</th>\n",
       "      <td>2</td>\n",
       "      <td>36</td>\n",
       "      <td>2</td>\n",
       "      <td>69</td>\n",
       "      <td>1</td>\n",
       "      <td>3</td>\n",
       "      <td>3</td>\n",
       "      <td>2</td>\n",
       "      <td>3</td>\n",
       "      <td>35</td>\n",
       "      <td>...</td>\n",
       "      <td>0</td>\n",
       "      <td>1</td>\n",
       "      <td>1</td>\n",
       "      <td>0</td>\n",
       "      <td>1</td>\n",
       "      <td>0</td>\n",
       "      <td>0</td>\n",
       "      <td>0</td>\n",
       "      <td>0</td>\n",
       "      <td>1</td>\n",
       "    </tr>\n",
       "    <tr>\n",
       "      <th>7</th>\n",
       "      <td>4</td>\n",
       "      <td>12</td>\n",
       "      <td>2</td>\n",
       "      <td>31</td>\n",
       "      <td>4</td>\n",
       "      <td>4</td>\n",
       "      <td>1</td>\n",
       "      <td>4</td>\n",
       "      <td>1</td>\n",
       "      <td>61</td>\n",
       "      <td>...</td>\n",
       "      <td>0</td>\n",
       "      <td>0</td>\n",
       "      <td>1</td>\n",
       "      <td>0</td>\n",
       "      <td>0</td>\n",
       "      <td>1</td>\n",
       "      <td>0</td>\n",
       "      <td>1</td>\n",
       "      <td>0</td>\n",
       "      <td>1</td>\n",
       "    </tr>\n",
       "    <tr>\n",
       "      <th>8</th>\n",
       "      <td>2</td>\n",
       "      <td>30</td>\n",
       "      <td>4</td>\n",
       "      <td>52</td>\n",
       "      <td>1</td>\n",
       "      <td>1</td>\n",
       "      <td>4</td>\n",
       "      <td>2</td>\n",
       "      <td>3</td>\n",
       "      <td>28</td>\n",
       "      <td>...</td>\n",
       "      <td>1</td>\n",
       "      <td>0</td>\n",
       "      <td>1</td>\n",
       "      <td>0</td>\n",
       "      <td>0</td>\n",
       "      <td>1</td>\n",
       "      <td>0</td>\n",
       "      <td>0</td>\n",
       "      <td>0</td>\n",
       "      <td>2</td>\n",
       "    </tr>\n",
       "    <tr>\n",
       "      <th>9</th>\n",
       "      <td>2</td>\n",
       "      <td>12</td>\n",
       "      <td>2</td>\n",
       "      <td>13</td>\n",
       "      <td>1</td>\n",
       "      <td>2</td>\n",
       "      <td>2</td>\n",
       "      <td>1</td>\n",
       "      <td>3</td>\n",
       "      <td>25</td>\n",
       "      <td>...</td>\n",
       "      <td>1</td>\n",
       "      <td>0</td>\n",
       "      <td>1</td>\n",
       "      <td>0</td>\n",
       "      <td>1</td>\n",
       "      <td>0</td>\n",
       "      <td>0</td>\n",
       "      <td>0</td>\n",
       "      <td>1</td>\n",
       "      <td>2</td>\n",
       "    </tr>\n",
       "  </tbody>\n",
       "</table>\n",
       "<p>10 rows × 25 columns</p>\n",
       "</div>"
      ],
      "text/plain": [
       "   1   6  4  12  5  5.1  3  4.1  1.1  67  ...  0  0.1  1.4  0.2  0.3  1.5  \\\n",
       "0  2  48  2  60  1    3  2    2    1  22  ...  0    0    1    0    0    1   \n",
       "1  4  12  4  21  1    4  3    3    1  49  ...  0    0    1    0    0    1   \n",
       "2  1  42  2  79  1    4  3    4    2  45  ...  0    0    0    0    0    0   \n",
       "3  1  24  3  49  1    3  3    4    4  53  ...  1    0    1    0    0    0   \n",
       "4  4  36  2  91  5    3  3    4    4  35  ...  0    0    1    0    0    0   \n",
       "5  4  24  2  28  3    5  3    4    2  53  ...  0    0    1    0    0    1   \n",
       "6  2  36  2  69  1    3  3    2    3  35  ...  0    1    1    0    1    0   \n",
       "7  4  12  2  31  4    4  1    4    1  61  ...  0    0    1    0    0    1   \n",
       "8  2  30  4  52  1    1  4    2    3  28  ...  1    0    1    0    0    1   \n",
       "9  2  12  2  13  1    2  2    1    3  25  ...  1    0    1    0    1    0   \n",
       "\n",
       "   0.4  0.5  1.6  1.7  \n",
       "0    0    0    1    2  \n",
       "1    0    1    0    1  \n",
       "2    0    0    1    1  \n",
       "3    0    0    1    2  \n",
       "4    0    1    0    1  \n",
       "5    0    0    1    1  \n",
       "6    0    0    0    1  \n",
       "7    0    1    0    1  \n",
       "8    0    0    0    2  \n",
       "9    0    0    1    2  \n",
       "\n",
       "[10 rows x 25 columns]"
      ]
     },
     "execution_count": 2,
     "metadata": {},
     "output_type": "execute_result"
    }
   ],
   "source": [
    "df = pd.read_csv('data.txt', delimiter = ' ')\n",
    "df.head(10)"
   ]
  },
  {
   "cell_type": "markdown",
   "id": "9b9b9883",
   "metadata": {},
   "source": [
    "## Description of the German credit dataset.\n",
    "\n",
    "### 1. Title: German Credit data\n",
    "\n",
    "### 2. Source Information\n",
    "\n",
    "Professor Dr. Hans Hofmann  \n",
    "Institut f\"ur Statistik und \"Okonometrie  \n",
    "Universit\"at Hamburg  \n",
    "FB Wirtschaftswissenschaften  \n",
    "Von-Melle-Park 5    \n",
    "2000 Hamburg 13 \n",
    "\n",
    "### 3. Number of Attributes german.numer: 24 (24 numerical)\n",
    "\n",
    "### 4. Attributes include information about\n",
    "*\t1) Status of existing checking account\n",
    "*\t2) Duration in month\n",
    "*\t3) Credit history\n",
    "*\t4) Purpose\n",
    "*\t5) Credit amount\n",
    "*\t6) Savings account/bonds\n",
    "*\t7) Present employment\n",
    "*\t8) Installment rate in percentage of disposable income\n",
    "*\t9) Personal status \n",
    "*\t10)Other debtors / guarantors\n",
    "*\t11)Present residence\n",
    "*\t12)Property\n",
    "*\t13)Age\n",
    "*\t14)Other installment plans \n",
    "*\t15)Housing\n",
    "*   16)Number of existing credits at this bank\n",
    "*\t17)Job\n",
    "*\t18)Telephone\n",
    "*\t19)Foreign worker\n"
   ]
  },
  {
   "cell_type": "code",
   "execution_count": 3,
   "id": "eeaceb12",
   "metadata": {},
   "outputs": [],
   "source": [
    "X = df.iloc[:, :-1].to_numpy()\n",
    "y = df.iloc[:, -1].to_numpy()"
   ]
  },
  {
   "cell_type": "code",
   "execution_count": 4,
   "id": "483f51a8",
   "metadata": {},
   "outputs": [
    {
     "data": {
      "text/plain": [
       "(799, 24)"
      ]
     },
     "execution_count": 4,
     "metadata": {},
     "output_type": "execute_result"
    }
   ],
   "source": [
    "X.shape"
   ]
  },
  {
   "cell_type": "code",
   "execution_count": 5,
   "id": "7bf2b037",
   "metadata": {},
   "outputs": [
    {
     "data": {
      "text/plain": [
       "(799,)"
      ]
     },
     "execution_count": 5,
     "metadata": {},
     "output_type": "execute_result"
    }
   ],
   "source": [
    "y.shape"
   ]
  },
  {
   "cell_type": "markdown",
   "id": "a6d817a8",
   "metadata": {},
   "source": [
    "#### training the classifier for ten times and printing the classification averaged accuracy of SVM on the test data over these ten trials averaged by ten trials"
   ]
  },
  {
   "cell_type": "code",
   "execution_count": 6,
   "id": "524c5938",
   "metadata": {},
   "outputs": [
    {
     "name": "stdout",
     "output_type": "stream",
     "text": [
      "0.7635000000000001\n"
     ]
    }
   ],
   "source": [
    "accuracy_scores = []\n",
    "for trial in range(10):\n",
    "    X_train, X_test, y_train, y_test = tts(X, y)\n",
    "    clf = SVC(kernel='linear')  \n",
    "    clf.fit(X_train, y_train)\n",
    "    y_pred = clf.predict(X_test)\n",
    "    accuracy = accuracy_score(y_test, y_pred)\n",
    "    accuracy_scores.append(accuracy)\n",
    "\n",
    "print(mean(accuracy_scores))"
   ]
  },
  {
   "cell_type": "markdown",
   "id": "af437ccd",
   "metadata": {},
   "source": [
    "#### we then try to preprocess the data and restart the same experiment"
   ]
  },
  {
   "cell_type": "code",
   "execution_count": 7,
   "id": "a603aaf4",
   "metadata": {},
   "outputs": [
    {
     "data": {
      "text/plain": [
       "1      0\n",
       "6      0\n",
       "4      0\n",
       "12     0\n",
       "5      0\n",
       "5.1    0\n",
       "3      0\n",
       "4.1    0\n",
       "1.1    0\n",
       "67     0\n",
       "3.1    0\n",
       "2      0\n",
       "1.2    0\n",
       "2.1    0\n",
       "1.3    0\n",
       "0      0\n",
       "0.1    0\n",
       "1.4    0\n",
       "0.2    0\n",
       "0.3    0\n",
       "1.5    0\n",
       "0.4    0\n",
       "0.5    0\n",
       "1.6    0\n",
       "1.7    0\n",
       "dtype: int64"
      ]
     },
     "execution_count": 7,
     "metadata": {},
     "output_type": "execute_result"
    }
   ],
   "source": [
    "df.isnull().sum()"
   ]
  },
  {
   "cell_type": "markdown",
   "id": "60df09ce",
   "metadata": {},
   "source": [
    "No NaNs exist"
   ]
  },
  {
   "cell_type": "code",
   "execution_count": 8,
   "id": "db955a32",
   "metadata": {
    "scrolled": true
   },
   "outputs": [
    {
     "name": "stdout",
     "output_type": "stream",
     "text": [
      "<class 'pandas.core.frame.DataFrame'>\n",
      "RangeIndex: 799 entries, 0 to 798\n",
      "Data columns (total 25 columns):\n",
      " #   Column  Non-Null Count  Dtype\n",
      "---  ------  --------------  -----\n",
      " 0   1       799 non-null    int64\n",
      " 1   6       799 non-null    int64\n",
      " 2   4       799 non-null    int64\n",
      " 3   12      799 non-null    int64\n",
      " 4   5       799 non-null    int64\n",
      " 5   5.1     799 non-null    int64\n",
      " 6   3       799 non-null    int64\n",
      " 7   4.1     799 non-null    int64\n",
      " 8   1.1     799 non-null    int64\n",
      " 9   67      799 non-null    int64\n",
      " 10  3.1     799 non-null    int64\n",
      " 11  2       799 non-null    int64\n",
      " 12  1.2     799 non-null    int64\n",
      " 13  2.1     799 non-null    int64\n",
      " 14  1.3     799 non-null    int64\n",
      " 15  0       799 non-null    int64\n",
      " 16  0.1     799 non-null    int64\n",
      " 17  1.4     799 non-null    int64\n",
      " 18  0.2     799 non-null    int64\n",
      " 19  0.3     799 non-null    int64\n",
      " 20  1.5     799 non-null    int64\n",
      " 21  0.4     799 non-null    int64\n",
      " 22  0.5     799 non-null    int64\n",
      " 23  1.6     799 non-null    int64\n",
      " 24  1.7     799 non-null    int64\n",
      "dtypes: int64(25)\n",
      "memory usage: 156.2 KB\n"
     ]
    }
   ],
   "source": [
    "df.info()"
   ]
  },
  {
   "cell_type": "markdown",
   "id": "1a2c4315",
   "metadata": {},
   "source": [
    "all the data are in ```int64``` datatype"
   ]
  },
  {
   "cell_type": "code",
   "execution_count": 9,
   "id": "3a176f07",
   "metadata": {},
   "outputs": [],
   "source": [
    "scaler = StandardScaler()    \n",
    "X_scaled = scaler.fit_transform(X)"
   ]
  },
  {
   "cell_type": "markdown",
   "id": "65a8e63e",
   "metadata": {},
   "source": [
    "scaled the values of the features to a standard scaler"
   ]
  },
  {
   "cell_type": "markdown",
   "id": "e337f55d",
   "metadata": {},
   "source": [
    "> thus the only difference is the **standard scaling**"
   ]
  },
  {
   "cell_type": "markdown",
   "id": "52500ba7",
   "metadata": {},
   "source": [
    "#### restarting the same experiment"
   ]
  },
  {
   "cell_type": "code",
   "execution_count": 10,
   "id": "cce97bd4",
   "metadata": {},
   "outputs": [
    {
     "name": "stdout",
     "output_type": "stream",
     "text": [
      "0.763\n"
     ]
    }
   ],
   "source": [
    "accuracy_scores = []\n",
    "for trial in range(10):\n",
    "    X_train, X_test, y_train, y_test = tts(X_scaled, y)\n",
    "    clf = SVC(kernel='linear')  \n",
    "    clf.fit(X_train, y_train)\n",
    "    y_pred = clf.predict(X_test)\n",
    "    accuracy = accuracy_score(y_test, y_pred)\n",
    "    accuracy_scores.append(accuracy)\n",
    "\n",
    "print(mean(accuracy_scores))"
   ]
  },
  {
   "cell_type": "markdown",
   "id": "b643c916",
   "metadata": {},
   "source": [
    "> the accuracy didn't change that much"
   ]
  }
 ],
 "metadata": {
  "kernelspec": {
   "display_name": "Python 3",
   "language": "python",
   "name": "python3"
  },
  "language_info": {
   "codemirror_mode": {
    "name": "ipython",
    "version": 3
   },
   "file_extension": ".py",
   "mimetype": "text/x-python",
   "name": "python",
   "nbconvert_exporter": "python",
   "pygments_lexer": "ipython3",
   "version": "3.8.8"
  }
 },
 "nbformat": 4,
 "nbformat_minor": 5
}
