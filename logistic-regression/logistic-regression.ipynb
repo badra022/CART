{
 "cells": [
  {
   "cell_type": "code",
   "execution_count": 1,
   "id": "2e86ccc5",
   "metadata": {},
   "outputs": [],
   "source": [
    "import numpy as np\n",
    "import pandas as pd\n",
    "from logistic_rgr import LogisticRegression\n",
    "import matplotlib.pyplot as plt"
   ]
  },
  {
   "cell_type": "markdown",
   "id": "a031786c",
   "metadata": {},
   "source": [
    "> Note: the implementation is in ```logistic_rgr.py``` file"
   ]
  },
  {
   "cell_type": "markdown",
   "id": "76a87d94",
   "metadata": {},
   "source": [
    "## Reading the Data"
   ]
  },
  {
   "cell_type": "code",
   "execution_count": 2,
   "id": "afa00a42",
   "metadata": {},
   "outputs": [
    {
     "data": {
      "text/html": [
       "<div>\n",
       "<style scoped>\n",
       "    .dataframe tbody tr th:only-of-type {\n",
       "        vertical-align: middle;\n",
       "    }\n",
       "\n",
       "    .dataframe tbody tr th {\n",
       "        vertical-align: top;\n",
       "    }\n",
       "\n",
       "    .dataframe thead th {\n",
       "        text-align: right;\n",
       "    }\n",
       "</style>\n",
       "<table border=\"1\" class=\"dataframe\">\n",
       "  <thead>\n",
       "    <tr style=\"text-align: right;\">\n",
       "      <th></th>\n",
       "      <th>User ID</th>\n",
       "      <th>Gender</th>\n",
       "      <th>Age</th>\n",
       "      <th>EstimatedSalary</th>\n",
       "      <th>Purchased</th>\n",
       "    </tr>\n",
       "  </thead>\n",
       "  <tbody>\n",
       "    <tr>\n",
       "      <th>0</th>\n",
       "      <td>15624510</td>\n",
       "      <td>Male</td>\n",
       "      <td>19</td>\n",
       "      <td>19000</td>\n",
       "      <td>0</td>\n",
       "    </tr>\n",
       "    <tr>\n",
       "      <th>1</th>\n",
       "      <td>15810944</td>\n",
       "      <td>Male</td>\n",
       "      <td>35</td>\n",
       "      <td>20000</td>\n",
       "      <td>0</td>\n",
       "    </tr>\n",
       "    <tr>\n",
       "      <th>2</th>\n",
       "      <td>15668575</td>\n",
       "      <td>Female</td>\n",
       "      <td>26</td>\n",
       "      <td>43000</td>\n",
       "      <td>0</td>\n",
       "    </tr>\n",
       "    <tr>\n",
       "      <th>3</th>\n",
       "      <td>15603246</td>\n",
       "      <td>Female</td>\n",
       "      <td>27</td>\n",
       "      <td>57000</td>\n",
       "      <td>0</td>\n",
       "    </tr>\n",
       "    <tr>\n",
       "      <th>4</th>\n",
       "      <td>15804002</td>\n",
       "      <td>Male</td>\n",
       "      <td>19</td>\n",
       "      <td>76000</td>\n",
       "      <td>0</td>\n",
       "    </tr>\n",
       "    <tr>\n",
       "      <th>...</th>\n",
       "      <td>...</td>\n",
       "      <td>...</td>\n",
       "      <td>...</td>\n",
       "      <td>...</td>\n",
       "      <td>...</td>\n",
       "    </tr>\n",
       "    <tr>\n",
       "      <th>395</th>\n",
       "      <td>15691863</td>\n",
       "      <td>Female</td>\n",
       "      <td>46</td>\n",
       "      <td>41000</td>\n",
       "      <td>1</td>\n",
       "    </tr>\n",
       "    <tr>\n",
       "      <th>396</th>\n",
       "      <td>15706071</td>\n",
       "      <td>Male</td>\n",
       "      <td>51</td>\n",
       "      <td>23000</td>\n",
       "      <td>1</td>\n",
       "    </tr>\n",
       "    <tr>\n",
       "      <th>397</th>\n",
       "      <td>15654296</td>\n",
       "      <td>Female</td>\n",
       "      <td>50</td>\n",
       "      <td>20000</td>\n",
       "      <td>1</td>\n",
       "    </tr>\n",
       "    <tr>\n",
       "      <th>398</th>\n",
       "      <td>15755018</td>\n",
       "      <td>Male</td>\n",
       "      <td>36</td>\n",
       "      <td>33000</td>\n",
       "      <td>0</td>\n",
       "    </tr>\n",
       "    <tr>\n",
       "      <th>399</th>\n",
       "      <td>15594041</td>\n",
       "      <td>Female</td>\n",
       "      <td>49</td>\n",
       "      <td>36000</td>\n",
       "      <td>1</td>\n",
       "    </tr>\n",
       "  </tbody>\n",
       "</table>\n",
       "<p>400 rows × 5 columns</p>\n",
       "</div>"
      ],
      "text/plain": [
       "      User ID  Gender  Age  EstimatedSalary  Purchased\n",
       "0    15624510    Male   19            19000          0\n",
       "1    15810944    Male   35            20000          0\n",
       "2    15668575  Female   26            43000          0\n",
       "3    15603246  Female   27            57000          0\n",
       "4    15804002    Male   19            76000          0\n",
       "..        ...     ...  ...              ...        ...\n",
       "395  15691863  Female   46            41000          1\n",
       "396  15706071    Male   51            23000          1\n",
       "397  15654296  Female   50            20000          1\n",
       "398  15755018    Male   36            33000          0\n",
       "399  15594041  Female   49            36000          1\n",
       "\n",
       "[400 rows x 5 columns]"
      ]
     },
     "execution_count": 2,
     "metadata": {},
     "output_type": "execute_result"
    }
   ],
   "source": [
    "df = pd.read_csv('User_Data.csv')\n",
    "df"
   ]
  },
  {
   "cell_type": "markdown",
   "id": "a461cbed",
   "metadata": {},
   "source": [
    "## Preprocessing"
   ]
  },
  {
   "cell_type": "code",
   "execution_count": 3,
   "id": "67d87eb4",
   "metadata": {},
   "outputs": [
    {
     "data": {
      "text/plain": [
       "0    257\n",
       "1    143\n",
       "Name: Purchased, dtype: int64"
      ]
     },
     "execution_count": 3,
     "metadata": {},
     "output_type": "execute_result"
    }
   ],
   "source": [
    "df.Purchased.value_counts()"
   ]
  },
  {
   "cell_type": "markdown",
   "id": "254ba390",
   "metadata": {},
   "source": [
    "#### dropping ```User ID``` and ```Gender``` cloumns"
   ]
  },
  {
   "cell_type": "code",
   "execution_count": 4,
   "id": "7899966a",
   "metadata": {},
   "outputs": [],
   "source": [
    "df = df.drop(columns = ['User ID', 'Gender'])"
   ]
  },
  {
   "cell_type": "markdown",
   "id": "4efba52d",
   "metadata": {},
   "source": [
    "#### extracting X(features) and y from the dataFrame"
   ]
  },
  {
   "cell_type": "code",
   "execution_count": 5,
   "id": "d30f2aa7",
   "metadata": {},
   "outputs": [],
   "source": [
    "X = df.iloc[:, :-1].to_numpy()\n",
    "y = df.iloc[:, -1].to_numpy().reshape(-1, 1)"
   ]
  },
  {
   "cell_type": "markdown",
   "id": "b4725867",
   "metadata": {},
   "source": [
    "#### adding column of 1. to the features (x0 = 1.)"
   ]
  },
  {
   "cell_type": "code",
   "execution_count": 6,
   "id": "af783e26",
   "metadata": {},
   "outputs": [],
   "source": [
    "X = np.c_[np.ones((X.shape[0], 1)), X]"
   ]
  },
  {
   "cell_type": "markdown",
   "id": "b3640311",
   "metadata": {},
   "source": [
    "#### splitting the data"
   ]
  },
  {
   "cell_type": "code",
   "execution_count": 7,
   "id": "0078c042",
   "metadata": {},
   "outputs": [],
   "source": [
    "from sklearn.model_selection import train_test_split\n",
    "X_train, X_tst, y_train, y_tst = train_test_split(X, y, test_size = 0.3, random_state = 0)"
   ]
  },
  {
   "cell_type": "markdown",
   "id": "fa5373d3",
   "metadata": {},
   "source": [
    "#### Standardizing the Features (essential for Logistic regression case)"
   ]
  },
  {
   "cell_type": "code",
   "execution_count": 8,
   "id": "1c172da7",
   "metadata": {},
   "outputs": [],
   "source": [
    "from sklearn.preprocessing import StandardScaler\n",
    "scaler = StandardScaler()\n",
    "X_train_std = scaler.fit_transform(X_train)\n",
    "X_tst_std = scaler.transform(X_tst)"
   ]
  },
  {
   "cell_type": "markdown",
   "id": "7309dea5",
   "metadata": {},
   "source": [
    "## Logistic Regression"
   ]
  },
  {
   "cell_type": "code",
   "execution_count": 9,
   "id": "00c6b5a5",
   "metadata": {},
   "outputs": [],
   "source": [
    "cls = LogisticRegression(n_iterations = 200, eta = 0.01)"
   ]
  },
  {
   "cell_type": "code",
   "execution_count": 10,
   "id": "8f8e8910",
   "metadata": {},
   "outputs": [
    {
     "name": "stdout",
     "output_type": "stream",
     "text": [
      "cost:  0.6931471805599466\n",
      "cost:  0.48821047560231634\n",
      "cost:  0.4589118756534972\n",
      "cost:  0.4473516135798214\n",
      "cost:  0.44154304666327837\n",
      "cost:  0.43825949472399167\n",
      "cost:  0.4362677499856426\n",
      "cost:  0.4350017672774965\n",
      "cost:  0.43417006417749426\n",
      "cost:  0.4336101879973917\n",
      "cost:  0.43322624217321215\n",
      "cost:  0.4329591117354987\n",
      "cost:  0.43277111246802447\n",
      "cost:  0.43263757684031673\n",
      "cost:  0.4325420111261145\n",
      "cost:  0.4324731950327643\n",
      "cost:  0.4324233868968112\n",
      "cost:  0.43238718234801043\n",
      "cost:  0.4323607717358559\n",
      "cost:  0.4323414475801424\n",
      "cost:  0.43232727246655944\n",
      "cost:  0.43231685197699565\n",
      "cost:  0.43230917757350784\n",
      "cost:  0.4323035167699557\n",
      "cost:  0.43229933568387396\n",
      "cost:  0.4322962440097582\n",
      "cost:  0.43229395566904744\n",
      "cost:  0.43229226051357533\n",
      "cost:  0.4322910038797925\n",
      "cost:  0.4322900717544568\n",
      "cost:  0.4322893799733206\n",
      "cost:  0.4322888663321853\n",
      "cost:  0.4322884848098028\n",
      "cost:  0.4322882013276155\n",
      "cost:  0.4322879906313719\n",
      "cost:  0.43228783399389903\n",
      "cost:  0.4322877175203151\n",
      "cost:  0.43228763089611405\n",
      "cost:  0.43228756646138444\n",
      "cost:  0.43228751852555825\n",
      "cost:  0.4322874828597847\n",
      "cost:  0.43228745632061877\n",
      "cost:  0.4322874365708978\n",
      "cost:  0.43228742187258434\n",
      "cost:  0.4322874109329606\n",
      "cost:  0.4322874027903875\n",
      "cost:  0.43228739672941885\n",
      "cost:  0.4322873922177152\n",
      "cost:  0.4322873888591421\n",
      "cost:  0.43228738635889746\n",
      "cost:  0.43228738449757353\n",
      "cost:  0.43228738311186665\n",
      "cost:  0.432287382080223\n",
      "cost:  0.43228738131216293\n",
      "cost:  0.4322873807403324\n",
      "cost:  0.43228738031459146\n",
      "cost:  0.4322873799976148\n",
      "cost:  0.43228737976161363\n",
      "cost:  0.4322873795859001\n",
      "cost:  0.43228737945507345\n",
      "cost:  0.43228737935766565\n",
      "cost:  0.43228737928513994\n",
      "cost:  0.4322873792311401\n",
      "cost:  0.4322873791909335\n",
      "cost:  0.43228737916099713\n",
      "cost:  0.43228737913870763\n",
      "cost:  0.43228737912211135\n",
      "cost:  0.43228737910975473\n",
      "cost:  0.4322873791005537\n",
      "cost:  0.4322873790937031\n",
      "cost:  0.432287379088602\n",
      "cost:  0.43228737908480425\n",
      "cost:  0.43228737908197623\n",
      "cost:  0.432287379079871\n",
      "cost:  0.4322873790783031\n",
      "cost:  0.43228737907713594\n",
      "cost:  0.4322873790762664\n",
      "cost:  0.43228737907561937\n",
      "cost:  0.43228737907513715\n",
      "cost:  0.43228737907477854\n",
      "cost:  0.43228737907451165\n",
      "cost:  0.43228737907431225\n",
      "cost:  0.43228737907416465\n",
      "cost:  0.43228737907405423\n",
      "cost:  0.4322873790739721\n",
      "cost:  0.432287379073911\n",
      "cost:  0.4322873790738655\n",
      "cost:  0.4322873790738317\n",
      "cost:  0.432287379073806\n",
      "cost:  0.4322873790737875\n",
      "cost:  0.4322873790737736\n",
      "cost:  0.4322873790737627\n",
      "cost:  0.4322873790737556\n",
      "cost:  0.4322873790737496\n",
      "cost:  0.4322873790737455\n",
      "cost:  0.43228737907374193\n",
      "cost:  0.43228737907373976\n",
      "cost:  0.4322873790737382\n",
      "cost:  0.43228737907373654\n",
      "cost:  0.4322873790737356\n",
      "cost:  0.4322873790737348\n",
      "cost:  0.4322873790737342\n",
      "cost:  0.4322873790737338\n",
      "cost:  0.43228737907373394\n",
      "cost:  0.4322873790737334\n",
      "cost:  0.4322873790737329\n",
      "cost:  0.432287379073733\n",
      "cost:  0.43228737907373305\n",
      "cost:  0.4322873790737331\n",
      "cost:  0.43228737907373294\n",
      "Converged to Cost:  0.43228737907373294 \n",
      "theta:  [0.         1.90786945 1.01337548]\n"
     ]
    }
   ],
   "source": [
    "cls.fit(X_train_std, y_train)"
   ]
  },
  {
   "cell_type": "markdown",
   "id": "d1adad61",
   "metadata": {},
   "source": [
    "## Evaluation"
   ]
  },
  {
   "cell_type": "code",
   "execution_count": 11,
   "id": "a3bc23ba",
   "metadata": {},
   "outputs": [],
   "source": [
    "y_pred = cls.predict(X_tst_std)"
   ]
  },
  {
   "cell_type": "code",
   "execution_count": 12,
   "id": "10e28ef7",
   "metadata": {},
   "outputs": [
    {
     "data": {
      "text/plain": [
       "array([0, 0, 0, 0, 0, 0, 0, 1, 0, 1, 0, 0, 0, 0, 0, 0, 0, 0, 1, 0, 0, 1,\n",
       "       0, 1, 0, 1, 0, 0, 0, 0, 0, 0, 1, 0, 0, 0, 0, 0, 0, 1, 0, 0, 0, 0,\n",
       "       1, 0, 0, 1, 0, 1, 1, 0, 0, 1, 1, 0, 0, 0, 1, 0, 0, 1, 0, 1, 0, 1,\n",
       "       0, 0, 0, 1, 1, 0, 0, 0, 0, 0, 1, 0, 1, 1, 1, 1, 0, 0, 1, 1, 1, 1,\n",
       "       1, 0, 1, 1, 0, 0, 0, 0, 0, 1, 1, 1, 0, 0, 0, 1, 1, 1, 0, 0, 0, 0,\n",
       "       0, 0, 1, 1, 1, 1, 1, 0, 1, 1])"
      ]
     },
     "execution_count": 12,
     "metadata": {},
     "output_type": "execute_result"
    }
   ],
   "source": [
    "y_pred"
   ]
  },
  {
   "cell_type": "markdown",
   "id": "655c5eec",
   "metadata": {},
   "source": [
    "#### Confusion Matrix"
   ]
  },
  {
   "cell_type": "code",
   "execution_count": 14,
   "id": "cf4742f2",
   "metadata": {},
   "outputs": [
    {
     "data": {
      "text/plain": [
       "array([[70,  5],\n",
       "       [ 9, 36]], dtype=int64)"
      ]
     },
     "execution_count": 14,
     "metadata": {},
     "output_type": "execute_result"
    }
   ],
   "source": [
    "from sklearn.metrics import confusion_matrix\n",
    "mat = confusion_matrix(y_pred, y_tst)\n",
    "mat"
   ]
  },
  {
   "cell_type": "code",
   "execution_count": 15,
   "id": "8bdae636",
   "metadata": {},
   "outputs": [
    {
     "data": {
      "image/png": "[encoded data removed]",
      "text/plain": [
       "<Figure size 432x288 with 2 Axes>"
      ]
     },
     "metadata": {
      "needs_background": "light"
     },
     "output_type": "display_data"
    }
   ],
   "source": [
    "from scikitplot.metrics import plot_confusion_matrix\n",
    "plot_confusion_matrix(y_pred, y_tst)\n",
    "plt.show()"
   ]
  },
  {
   "cell_type": "markdown",
   "id": "5209ff65",
   "metadata": {},
   "source": [
    "#### F1-score"
   ]
  },
  {
   "cell_type": "code",
   "execution_count": 13,
   "id": "cc427190",
   "metadata": {},
   "outputs": [
    {
     "data": {
      "text/plain": [
       "0.8372093023255814"
      ]
     },
     "execution_count": 13,
     "metadata": {},
     "output_type": "execute_result"
    }
   ],
   "source": [
    "from sklearn.metrics import f1_score\n",
    "f1_score(y_pred, y_tst)"
   ]
  }
 ],
 "metadata": {
  "kernelspec": {
   "display_name": "Python 3",
   "language": "python",
   "name": "python3"
  },
  "language_info": {
   "codemirror_mode": {
    "name": "ipython",
    "version": 3
   },
   "file_extension": ".py",
   "mimetype": "text/x-python",
   "name": "python",
   "nbconvert_exporter": "python",
   "pygments_lexer": "ipython3",
   "version": "3.8.8"
  }
 },
 "nbformat": 4,
 "nbformat_minor": 5
}
